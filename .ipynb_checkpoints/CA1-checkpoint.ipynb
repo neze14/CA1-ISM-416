{
 "cells": [
  {
   "cell_type": "markdown",
   "id": "10eb4c44",
   "metadata": {},
   "source": [
    "# Question 1: History"
   ]
  },
  {
   "cell_type": "markdown",
   "id": "2cb4a8bd",
   "metadata": {},
   "source": [
    "<img src = \"a.jpg\">"
   ]
  },
  {
   "cell_type": "markdown",
   "id": "62bce7e2",
   "metadata": {},
   "source": [
    "Given the following article    \n",
    "\n",
    "https://www.bbc.com/news/world-africa-56993215   \n",
    "    \n",
    "Your mission, should you accept is to...   \n",
    "\n",
    "- Get the article's h1 and h2   \n",
    "- Get the article's date    \n",
    "- Get the full  article    \n",
    "- Save in word\n",
    "\n",
    "\n",
    "### Create a table that contains the following informations from the article using Regular expressions and Pandas\n",
    "\n",
    "- Father of the nation\n",
    "- Date of birth of \"Father of the nation\"\n",
    "- The kingmaker\n",
    "- The disillusioned queen\n",
    "- The dead prince\n",
    "- The 'royal rebels'\n",
    "- The mouthpiece\n",
    "\n",
    "\n",
    "\n",
    "    \n"
   ]
  },
  {
   "cell_type": "markdown",
   "id": "faa18bbf",
   "metadata": {},
   "source": [
    "# Question 2: Access log"
   ]
  },
  {
   "cell_type": "markdown",
   "id": "1039e5b9",
   "metadata": {},
   "source": [
    "An  access_log.txt file is provided. Your mission, should you accept is to...\n",
    "\n",
    "- Apply your knowledge of regular expressions and pandas to store all `\"IP Address\", \"Dates\", \"The requests\"` in a dataframe\n"
   ]
  },
  {
   "cell_type": "code",
   "execution_count": null,
   "id": "06456a6c",
   "metadata": {},
   "outputs": [],
   "source": []
  }
 ],
 "metadata": {
  "kernelspec": {
   "display_name": "Python 3 (ipykernel)",
   "language": "python",
   "name": "python3"
  },
  "language_info": {
   "codemirror_mode": {
    "name": "ipython",
    "version": 3
   },
   "file_extension": ".py",
   "mimetype": "text/x-python",
   "name": "python",
   "nbconvert_exporter": "python",
   "pygments_lexer": "ipython3",
   "version": "3.10.9"
  }
 },
 "nbformat": 4,
 "nbformat_minor": 5
}
